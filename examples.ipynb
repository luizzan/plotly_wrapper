{
 "cells": [
  {
   "cell_type": "code",
   "execution_count": null,
   "metadata": {},
   "outputs": [],
   "source": [
    "from plotlywrapper import PlotlyWrapper\n",
    "pyw = PlotlyWrapper()\n",
    "pyw.load_settings('path/to/json/file.json')\n",
    "\n",
    "import pandas as pd"
   ]
  },
  {
   "cell_type": "markdown",
   "metadata": {},
   "source": [
    "# Use help"
   ]
  },
  {
   "cell_type": "code",
   "execution_count": null,
   "metadata": {},
   "outputs": [],
   "source": [
    "help(pyw.line)"
   ]
  },
  {
   "cell_type": "markdown",
   "metadata": {},
   "source": [
    "# Line"
   ]
  },
  {
   "cell_type": "code",
   "execution_count": null,
   "metadata": {},
   "outputs": [],
   "source": [
    "pyw.line(\n",
    "    ['A', 'B', 'C', 'D', 'E', 'F', 'G'],\n",
    "    [1.5, 4, 3, 6, 5, 8, 7],\n",
    "    name = 'A',\n",
    ")\n",
    "pyw.line(\n",
    "    ['A', 'B', 'C', 'D', 'E', 'F', 'G'],\n",
    "    [0.5, 3, 2, 5, 4, 7, 6],\n",
    "    name = 'B',\n",
    ")\n",
    "pyw.plot()\n",
    "# Save the plot\n",
    "# pyw.save(filename='my_fig.png', scale=5, footer_height=10)"
   ]
  },
  {
   "cell_type": "markdown",
   "metadata": {},
   "source": [
    "# Scatter"
   ]
  },
  {
   "cell_type": "code",
   "execution_count": null,
   "metadata": {},
   "outputs": [],
   "source": [
    "pyw.scatter(\n",
    "    ['A', 'B', 'C', 'D', 'E', 'F', 'G'],\n",
    "    [0.5, 3, 2, 5, 4, 7, 6],\n",
    ")\n",
    "pyw.plot()"
   ]
  },
  {
   "cell_type": "markdown",
   "metadata": {},
   "source": [
    "# Bar - vertical"
   ]
  },
  {
   "cell_type": "code",
   "execution_count": null,
   "metadata": {},
   "outputs": [],
   "source": [
    "pyw.bar(\n",
    "    ['A', 'B', 'C', 'D', 'E', 'F', 'G'],\n",
    "    [0.5, 3, 2, 5, 4, 7, 6],\n",
    ")\n",
    "pyw.plot()"
   ]
  },
  {
   "cell_type": "markdown",
   "metadata": {},
   "source": [
    "# Bar - horizontal"
   ]
  },
  {
   "cell_type": "code",
   "execution_count": null,
   "metadata": {},
   "outputs": [],
   "source": [
    "pyw.barh(\n",
    "    [0.5, 3, 2, 5, 4, 7, 6],\n",
    "    ['A', 'B', 'C', 'D', 'E', 'F', 'G'],\n",
    ")\n",
    "pyw.plot()"
   ]
  },
  {
   "cell_type": "markdown",
   "metadata": {},
   "source": [
    "# Subplots"
   ]
  },
  {
   "cell_type": "code",
   "execution_count": null,
   "metadata": {},
   "outputs": [],
   "source": [
    "pyw.bar(\n",
    "    ['A', 'B', 'C', 'D', 'E', 'F', 'G'],\n",
    "    [0.5, 3, 2, 5, 4, 7, 6],\n",
    "    name='bar',\n",
    ")\n",
    "pyw.line(\n",
    "    ['A', 'B', 'C', 'D', 'E', 'F', 'G'],\n",
    "    [0.5, 3, 2, 5, 4, 7, 6],\n",
    "    name='scatter',\n",
    "    color='black',    \n",
    ")\n",
    "pyw.plot()"
   ]
  },
  {
   "cell_type": "markdown",
   "metadata": {},
   "source": [
    "# Pie"
   ]
  },
  {
   "cell_type": "code",
   "execution_count": null,
   "metadata": {},
   "outputs": [],
   "source": [
    "pyw.pie(\n",
    "    [0.5, 3, 2, 5, 4],\n",
    "    labels = ['A', 'B', 'C', 'D', 'E'],\n",
    ")\n",
    "pyw.plot()"
   ]
  },
  {
   "cell_type": "markdown",
   "metadata": {},
   "source": [
    "# Network"
   ]
  },
  {
   "cell_type": "code",
   "execution_count": null,
   "metadata": {},
   "outputs": [],
   "source": [
    "pyw.network(\n",
    "    {\n",
    "        'Group A' : ['AAA', 'BBB', 'CCC'],\n",
    "        'Group B' : ['AAA', 'DDD', 'EEE'],\n",
    "    },\n",
    ")\n",
    "pyw.plot()"
   ]
  },
  {
   "cell_type": "markdown",
   "metadata": {},
   "source": [
    "# Heatmap"
   ]
  },
  {
   "cell_type": "code",
   "execution_count": null,
   "metadata": {},
   "outputs": [],
   "source": [
    "pyw.heatmap(\n",
    "    x = ['A', 'B', 'C'],\n",
    "    y = [0, 1, 2],\n",
    "    z = [[2, 2, 1], [4, 3, 2], [1, 2, 4]],\n",
    ")\n",
    "pyw.plot()"
   ]
  },
  {
   "cell_type": "markdown",
   "metadata": {},
   "source": [
    "# Table"
   ]
  },
  {
   "cell_type": "code",
   "execution_count": null,
   "metadata": {},
   "outputs": [],
   "source": [
    "pyw.table(\n",
    "    header = ['List A', 'List B'],\n",
    "    cells = [['A', 'B', 'C'], ['D', 'E']],\n",
    ")\n",
    "pyw.plot()"
   ]
  },
  {
   "cell_type": "markdown",
   "metadata": {},
   "source": [
    "# Map"
   ]
  },
  {
   "cell_type": "code",
   "execution_count": null,
   "metadata": {},
   "outputs": [],
   "source": [
    "values={\n",
    "    'SC': 10,\n",
    "    'BA': 12,\n",
    "    'MT': 11,\n",
    "}\n",
    "values = pd.DataFrame.from_dict(values, orient='index')\n",
    "# Data can be sent as a dictionary or a dataframe\n",
    "\n",
    "pyw.scattermapbox(\n",
    "    location='brazil_states',\n",
    "    values=values,\n",
    ")\n",
    "pyw.plot()"
   ]
  },
  {
   "cell_type": "markdown",
   "metadata": {},
   "source": [
    "# Save plots"
   ]
  },
  {
   "cell_type": "code",
   "execution_count": null,
   "metadata": {},
   "outputs": [],
   "source": [
    "pyw.line(\n",
    "    ['A', 'B', 'C', 'D', 'E', 'F', 'G'],\n",
    "    [0.5, 3, 2, 5, 4, 7, 6],\n",
    ")\n",
    "pyw.save(filename='my_fig.png')"
   ]
  },
  {
   "cell_type": "code",
   "execution_count": null,
   "metadata": {},
   "outputs": [],
   "source": []
  }
 ],
 "metadata": {
  "kernelspec": {
   "display_name": "semrush",
   "language": "python",
   "name": "semrush"
  },
  "language_info": {
   "codemirror_mode": {
    "name": "ipython",
    "version": 3
   },
   "file_extension": ".py",
   "mimetype": "text/x-python",
   "name": "python",
   "nbconvert_exporter": "python",
   "pygments_lexer": "ipython3",
   "version": "3.6.7"
  }
 },
 "nbformat": 4,
 "nbformat_minor": 2
}
