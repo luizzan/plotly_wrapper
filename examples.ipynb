{
 "cells": [
  {
   "cell_type": "code",
   "execution_count": null,
   "metadata": {},
   "outputs": [],
   "source": [
    "import __init__ as pyw"
   ]
  },
  {
   "cell_type": "code",
   "execution_count": null,
   "metadata": {},
   "outputs": [],
   "source": [
    "xs = [[1,2,3], [1,2,3]]\n",
    "ys = [[2,4,3], [3,2,5]]\n",
    "names = ['Group A', 'Group B']\n",
    "pyw.line(xs, ys, names=names,\n",
    "         #filename='line_plot.png',\n",
    ")"
   ]
  },
  {
   "cell_type": "code",
   "execution_count": null,
   "metadata": {},
   "outputs": [],
   "source": [
    "xs = ['A', 'B', 'C']\n",
    "ys = [2,4,3]\n",
    "pyw.bar(xs, ys,\n",
    "        bargap=0.5,\n",
    "        #filename='single_bar_plot.png',\n",
    ")"
   ]
  },
  {
   "cell_type": "code",
   "execution_count": null,
   "metadata": {},
   "outputs": [],
   "source": [
    "xs = [['A', 'B', 'C'], ['A', 'B', 'C']]\n",
    "ys = [[2,4,3], [3,2,5]]\n",
    "names = ['Group A', 'Group B']\n",
    "pyw.bar(xs, ys, names=names,\n",
    "         bargap=0.2,\n",
    "         #filename='multi_bar_plot.png',\n",
    ")"
   ]
  },
  {
   "cell_type": "code",
   "execution_count": null,
   "metadata": {},
   "outputs": [],
   "source": [
    "xs = [2,4,3]\n",
    "ys = ['A', 'B', 'C']\n",
    "pyw.barh(xs, ys,\n",
    "        bargap=0.5,\n",
    "        #filename='single_barh_plot.png',\n",
    ")"
   ]
  },
  {
   "cell_type": "code",
   "execution_count": null,
   "metadata": {},
   "outputs": [],
   "source": [
    "xs = [[2,4,3], [3,2,5]]\n",
    "ys = [['A', 'B', 'C'], ['A', 'B', 'C']]\n",
    "names = ['Group A', 'Group B']\n",
    "pyw.barh(xs, ys, names=names,\n",
    "         bargap=0.2,\n",
    "         #filename='multi_barh_plot.png',\n",
    ")"
   ]
  },
  {
   "cell_type": "code",
   "execution_count": null,
   "metadata": {},
   "outputs": [],
   "source": [
    "xs = [[1,2,3], [1,2,3]]\n",
    "ys = [[2,4,3], [3,2,5]]\n",
    "names = ['Group A', 'Group B']\n",
    "pyw.scatter(xs, ys, names=names,\n",
    "         #filename='scatter_plot.png',\n",
    ")"
   ]
  },
  {
   "cell_type": "code",
   "execution_count": null,
   "metadata": {},
   "outputs": [],
   "source": [
    "values = [1, 2, 4, 3],\n",
    "labels = ['Group A', 'Group B', 'Group C', 'Group D']\n",
    "pyw.pie(values, labels=labels,\n",
    "        hole=0.4,\n",
    "        filename='pie_plot.png',\n",
    ")"
   ]
  }
 ],
 "metadata": {
  "kernelspec": {
   "display_name": "perso",
   "language": "python",
   "name": "perso"
  },
  "language_info": {
   "codemirror_mode": {
    "name": "ipython",
    "version": 3
   },
   "file_extension": ".py",
   "mimetype": "text/x-python",
   "name": "python",
   "nbconvert_exporter": "python",
   "pygments_lexer": "ipython3",
   "version": "3.7.0"
  }
 },
 "nbformat": 4,
 "nbformat_minor": 2
}
